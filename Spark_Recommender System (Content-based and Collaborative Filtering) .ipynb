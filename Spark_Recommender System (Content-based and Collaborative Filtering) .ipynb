{
 "cells": [
  {
   "cell_type": "code",
   "execution_count": 1,
   "metadata": {},
   "outputs": [],
   "source": [
    "from pyspark.sql import SparkSession\n",
    "spark=SparkSession.builder.appName('Recommender System').getOrCreate()"
   ]
  },
  {
   "cell_type": "code",
   "execution_count": 2,
   "metadata": {},
   "outputs": [],
   "source": [
    "from pyspark.ml.recommendation import ALS"
   ]
  },
  {
   "cell_type": "code",
   "execution_count": 3,
   "metadata": {},
   "outputs": [],
   "source": [
    "from pyspark.ml.evaluation import RegressionEvaluator"
   ]
  },
  {
   "cell_type": "code",
   "execution_count": 6,
   "metadata": {},
   "outputs": [],
   "source": [
    "data=spark.read.csv('movielens_ratings.csv', inferSchema=True, header= True)"
   ]
  },
  {
   "cell_type": "code",
   "execution_count": 8,
   "metadata": {},
   "outputs": [
    {
     "name": "stdout",
     "output_type": "stream",
     "text": [
      "root\n",
      " |-- movieId: integer (nullable = true)\n",
      " |-- rating: double (nullable = true)\n",
      " |-- userId: integer (nullable = true)\n",
      "\n"
     ]
    }
   ],
   "source": [
    "data.printSchema()"
   ]
  },
  {
   "cell_type": "code",
   "execution_count": 9,
   "metadata": {},
   "outputs": [],
   "source": [
    "#Divide the data into train and test \n",
    "train,test=data.randomSplit([0.7,0.3])"
   ]
  },
  {
   "cell_type": "code",
   "execution_count": 10,
   "metadata": {},
   "outputs": [],
   "source": [
    "als=ALS(regParam=0.01, maxIter=5, userCol='userId' , itemCol='movieId'  , ratingCol='rating')"
   ]
  },
  {
   "cell_type": "code",
   "execution_count": 11,
   "metadata": {},
   "outputs": [],
   "source": [
    "model=als.fit(train)"
   ]
  },
  {
   "cell_type": "code",
   "execution_count": 12,
   "metadata": {},
   "outputs": [],
   "source": [
    "prediction=model.transform(test)"
   ]
  },
  {
   "cell_type": "code",
   "execution_count": 13,
   "metadata": {},
   "outputs": [
    {
     "name": "stdout",
     "output_type": "stream",
     "text": [
      "+-------+------+------+------------+\n",
      "|movieId|rating|userId|  prediction|\n",
      "+-------+------+------+------------+\n",
      "|     31|   1.0|    26|   1.1658027|\n",
      "|     31|   4.0|    12|   1.2598867|\n",
      "|     31|   1.0|     5|0.0069105327|\n",
      "|     31|   3.0|     8| -0.02229669|\n",
      "|     31|   3.0|     7|  0.45587373|\n",
      "|     31|   2.0|    25|  0.66239434|\n",
      "|     31|   1.0|    29|  0.69301754|\n",
      "|     31|   1.0|    18|   0.1922757|\n",
      "|     85|   1.0|     5|    3.178989|\n",
      "|     85|   1.0|     4|   1.0739911|\n",
      "|     65|   1.0|    19|   0.8025398|\n",
      "|     65|   2.0|    15|  -1.3817253|\n",
      "|     65|   1.0|    24|   2.3068101|\n",
      "|     53|   1.0|    23|   3.8777764|\n",
      "|     53|   1.0|     7|   1.9206043|\n",
      "|     53|   1.0|    25|   1.6409466|\n",
      "|     53|   3.0|    14|  -1.9544158|\n",
      "|     78|   1.0|    11|   1.2330363|\n",
      "|     78|   1.0|     2|   1.3188988|\n",
      "|     34|   1.0|    16|    5.094778|\n",
      "+-------+------+------+------------+\n",
      "only showing top 20 rows\n",
      "\n"
     ]
    }
   ],
   "source": [
    "prediction.show()\n",
    "#Since rating is continous, prediction can give negative rating to show complete dislike "
   ]
  },
  {
   "cell_type": "code",
   "execution_count": 19,
   "metadata": {},
   "outputs": [],
   "source": [
    "# Evaluate for continuous prediction using root mean squared error \n",
    "evaluator=RegressionEvaluator(metricName='rmse', labelCol='rating', predictionCol='prediction')"
   ]
  },
  {
   "cell_type": "code",
   "execution_count": 21,
   "metadata": {},
   "outputs": [],
   "source": [
    "rmse=evaluator.evaluate(prediction)"
   ]
  },
  {
   "cell_type": "code",
   "execution_count": 22,
   "metadata": {},
   "outputs": [
    {
     "data": {
      "text/plain": [
       "2.264286479208379"
      ]
     },
     "execution_count": 22,
     "metadata": {},
     "output_type": "execute_result"
    }
   ],
   "source": [
    "rmse"
   ]
  },
  {
   "cell_type": "code",
   "execution_count": 25,
   "metadata": {},
   "outputs": [],
   "source": [
    "#This data had multiple user, lets use this model on only single user \n",
    "single_user=test.filter(test['userId']==1).select(['movieId', 'userId'])"
   ]
  },
  {
   "cell_type": "code",
   "execution_count": 27,
   "metadata": {},
   "outputs": [
    {
     "name": "stdout",
     "output_type": "stream",
     "text": [
      "+-------+------+\n",
      "|movieId|userId|\n",
      "+-------+------+\n",
      "|      2|     1|\n",
      "|      4|     1|\n",
      "|      9|     1|\n",
      "|     13|     1|\n",
      "|     19|     1|\n",
      "|     33|     1|\n",
      "|     37|     1|\n",
      "|     44|     1|\n",
      "|     47|     1|\n",
      "|     54|     1|\n",
      "|     60|     1|\n",
      "|     63|     1|\n",
      "|     70|     1|\n",
      "|     74|     1|\n",
      "|     76|     1|\n",
      "|     77|     1|\n",
      "|     81|     1|\n",
      "|     82|     1|\n",
      "|     86|     1|\n",
      "|     88|     1|\n",
      "+-------+------+\n",
      "only showing top 20 rows\n",
      "\n"
     ]
    }
   ],
   "source": [
    "single_user.show()"
   ]
  },
  {
   "cell_type": "code",
   "execution_count": 28,
   "metadata": {},
   "outputs": [],
   "source": [
    "recommendation=model.transform(single_user)"
   ]
  },
  {
   "cell_type": "code",
   "execution_count": 30,
   "metadata": {},
   "outputs": [
    {
     "name": "stdout",
     "output_type": "stream",
     "text": [
      "+-------+------+-----------+\n",
      "|movieId|userId| prediction|\n",
      "+-------+------+-----------+\n",
      "|     77|     1|  5.0453186|\n",
      "|     88|     1|  4.6632123|\n",
      "|     70|     1|  3.2177937|\n",
      "|     92|     1|  3.1790814|\n",
      "|      4|     1|  3.0790188|\n",
      "|     13|     1|  2.8388832|\n",
      "|     60|     1|  2.4209964|\n",
      "|     74|     1|   2.075759|\n",
      "|     81|     1|  1.5793107|\n",
      "|     44|     1|  1.4867926|\n",
      "|     37|     1|  1.0968966|\n",
      "|     33|     1|  1.0275334|\n",
      "|     86|     1|  0.9054602|\n",
      "|     93|     1| 0.89568585|\n",
      "|     63|     1|  0.8154844|\n",
      "|     54|     1|  0.6966945|\n",
      "|     82|     1| 0.52422667|\n",
      "|      9|     1|-0.17602533|\n",
      "|     91|     1| -0.6101417|\n",
      "|     19|     1|-0.96193635|\n",
      "+-------+------+-----------+\n",
      "only showing top 20 rows\n",
      "\n"
     ]
    }
   ],
   "source": [
    "recommendation.orderBy('prediction', ascending=False).show()"
   ]
  },
  {
   "cell_type": "markdown",
   "metadata": {},
   "source": []
  }
 ],
 "metadata": {
  "kernelspec": {
   "display_name": "Python 3",
   "language": "python",
   "name": "python3"
  },
  "language_info": {
   "codemirror_mode": {
    "name": "ipython",
    "version": 3
   },
   "file_extension": ".py",
   "mimetype": "text/x-python",
   "name": "python",
   "nbconvert_exporter": "python",
   "pygments_lexer": "ipython3",
   "version": "3.7.0"
  }
 },
 "nbformat": 4,
 "nbformat_minor": 2
}
